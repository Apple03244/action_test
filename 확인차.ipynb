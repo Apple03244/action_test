{
 "cells": [
  {
   "cell_type": "code",
   "execution_count": 32,
   "metadata": {},
   "outputs": [],
   "source": [
    "import mysql.connector as mysql\n",
    "import pandas as pd\n",
    "import csv"
   ]
  },
  {
   "cell_type": "code",
   "execution_count": 44,
   "metadata": {},
   "outputs": [
    {
     "data": {
      "text/html": [
       "<div>\n",
       "<style scoped>\n",
       "    .dataframe tbody tr th:only-of-type {\n",
       "        vertical-align: middle;\n",
       "    }\n",
       "\n",
       "    .dataframe tbody tr th {\n",
       "        vertical-align: top;\n",
       "    }\n",
       "\n",
       "    .dataframe thead th {\n",
       "        text-align: right;\n",
       "    }\n",
       "</style>\n",
       "<table border=\"1\" class=\"dataframe\">\n",
       "  <thead>\n",
       "    <tr style=\"text-align: right;\">\n",
       "      <th></th>\n",
       "      <th>Unnamed: 0</th>\n",
       "      <th>매장명</th>\n",
       "      <th>tag</th>\n",
       "      <th>인원</th>\n",
       "    </tr>\n",
       "  </thead>\n",
       "  <tbody>\n",
       "    <tr>\n",
       "      <th>0</th>\n",
       "      <td>0</td>\n",
       "      <td>강남대로 378, 채선당 샤브보트</td>\n",
       "      <td>음식이 맛있어요</td>\n",
       "      <td>48</td>\n",
       "    </tr>\n",
       "    <tr>\n",
       "      <th>1</th>\n",
       "      <td>1</td>\n",
       "      <td>강남대로 378, 채선당 샤브보트</td>\n",
       "      <td>재료가 신선해요</td>\n",
       "      <td>32</td>\n",
       "    </tr>\n",
       "    <tr>\n",
       "      <th>2</th>\n",
       "      <td>2</td>\n",
       "      <td>강남대로 378, 채선당 샤브보트</td>\n",
       "      <td>혼밥하기 좋아요</td>\n",
       "      <td>26</td>\n",
       "    </tr>\n",
       "    <tr>\n",
       "      <th>3</th>\n",
       "      <td>3</td>\n",
       "      <td>강남대로 378, 채선당 샤브보트</td>\n",
       "      <td>친절해요</td>\n",
       "      <td>18</td>\n",
       "    </tr>\n",
       "    <tr>\n",
       "      <th>4</th>\n",
       "      <td>4</td>\n",
       "      <td>강남대로 378, 채선당 샤브보트</td>\n",
       "      <td>가성비가 좋아요</td>\n",
       "      <td>10</td>\n",
       "    </tr>\n",
       "    <tr>\n",
       "      <th>5</th>\n",
       "      <td>5</td>\n",
       "      <td>삼성로96길 11, 세계관</td>\n",
       "      <td>음식이 맛있어요</td>\n",
       "      <td>51</td>\n",
       "    </tr>\n",
       "    <tr>\n",
       "      <th>6</th>\n",
       "      <td>6</td>\n",
       "      <td>삼성로96길 11, 세계관</td>\n",
       "      <td>양이 많아요</td>\n",
       "      <td>30</td>\n",
       "    </tr>\n",
       "    <tr>\n",
       "      <th>7</th>\n",
       "      <td>7</td>\n",
       "      <td>삼성로96길 11, 세계관</td>\n",
       "      <td>인테리어가 멋져요</td>\n",
       "      <td>24</td>\n",
       "    </tr>\n",
       "    <tr>\n",
       "      <th>8</th>\n",
       "      <td>8</td>\n",
       "      <td>삼성로96길 11, 세계관</td>\n",
       "      <td>재료가 신선해요</td>\n",
       "      <td>23</td>\n",
       "    </tr>\n",
       "    <tr>\n",
       "      <th>9</th>\n",
       "      <td>9</td>\n",
       "      <td>삼성로96길 11, 세계관</td>\n",
       "      <td>친절해요</td>\n",
       "      <td>19</td>\n",
       "    </tr>\n",
       "  </tbody>\n",
       "</table>\n",
       "</div>"
      ],
      "text/plain": [
       "   Unnamed: 0                 매장명        tag  인원\n",
       "0           0  강남대로 378, 채선당 샤브보트   음식이 맛있어요  48\n",
       "1           1  강남대로 378, 채선당 샤브보트   재료가 신선해요  32\n",
       "2           2  강남대로 378, 채선당 샤브보트   혼밥하기 좋아요  26\n",
       "3           3  강남대로 378, 채선당 샤브보트       친절해요  18\n",
       "4           4  강남대로 378, 채선당 샤브보트   가성비가 좋아요  10\n",
       "5           5      삼성로96길 11, 세계관   음식이 맛있어요  51\n",
       "6           6      삼성로96길 11, 세계관     양이 많아요  30\n",
       "7           7      삼성로96길 11, 세계관  인테리어가 멋져요  24\n",
       "8           8      삼성로96길 11, 세계관   재료가 신선해요  23\n",
       "9           9      삼성로96길 11, 세계관       친절해요  19"
      ]
     },
     "execution_count": 44,
     "metadata": {},
     "output_type": "execute_result"
    }
   ],
   "source": [
    "csv_file_path = '/Users/ijeonghun/Downloads/restaurant_tag_test100.csv'\n",
    "df=pd.read_csv(csv_file_path)\n",
    "df.head(10)"
   ]
  },
  {
   "cell_type": "markdown",
   "metadata": {},
   "source": [
    "중복 제거 해야됑.."
   ]
  },
  {
   "cell_type": "code",
   "execution_count": 43,
   "metadata": {},
   "outputs": [],
   "source": [
    "# MySQL 연결 설정\n",
    "# conn = mysql.connect(\n",
    "#     host=\"lunch-lab-db.c7gaq8m06dlk.ap-southeast-2.rds.amazonaws.com\",\n",
    "#     user=\"admin\",\n",
    "#     password=\"lunchlab0219\",\n",
    "#     database=\"test\"\n",
    "# )\n",
    "conn=mysql.connect(\n",
    "    host=\"localhost\",\n",
    "    user=\"root\",\n",
    "    password='1234',\n",
    "    database=\"mytest\",\n",
    "    port=3306\n",
    ")\n",
    "\n",
    "cursor = conn.cursor()\n",
    "\n",
    "# CSV 파일 경로\n",
    "csv_file_path = '/Users/ijeonghun/Downloads/restaurant_tag_test100.csv'\n",
    "df=pd.read_csv(csv_file_path)\n",
    "\n",
    "# 데이터 베이스 삽입\n",
    "for x in df.index:\n",
    "    java_=dict(df.loc[x])\n",
    "    \n",
    "    # 매장명 데이터 삽입\n",
    "    restaurant_insert_query='''\n",
    "    insert into restaurant_test (name)\n",
    "    values (\"%s\")\n",
    "    '''\n",
    "    cursor.execute(restaurant_insert_query%(java_[\"매장명\"]))\n",
    "\n",
    "    #----------------#\n",
    "    #foreign key를 위한 primary 키 추출\n",
    "    conn.commit() # 트렌젝션 종료\n",
    "\n",
    "    cursor.execute(\"select max(id) from restaurant_test;\") # 가장 최근의 id값을 foreign key로 보낼것\n",
    "    foreign_id=cursor.fetchone()[0]\n",
    "\n",
    "    # tag_test 테이블에 데이터 삽입 -> 여기 구문 고치긴\n",
    "    tag_insert_query='''\n",
    "    insert into tag_test (tag,people_cnt,foreign_id)\n",
    "    values (\"%s\",%d,%d)\n",
    "    '''\n",
    "    cursor.execute(tag_insert_query%(java_[\"tag\"],java_[\"인원\"],foreign_id))\n",
    "\n",
    "#변경사항 커밋\n",
    "conn.commit()\n",
    "\n",
    "#연결종로\n",
    "cursor.close()\n",
    "conn.close()"
   ]
  },
  {
   "cell_type": "code",
   "execution_count": 20,
   "metadata": {},
   "outputs": [],
   "source": [
    "df=dict(df.loc[0])[\"인원\"]"
   ]
  },
  {
   "cell_type": "code",
   "execution_count": 26,
   "metadata": {},
   "outputs": [
    {
     "name": "stdout",
     "output_type": "stream",
     "text": [
      "\n",
      "    insert into tag_test (tag,people_cnt)\n",
      "    values (\"음식이 맛있어요\",48)\n",
      "    \n"
     ]
    }
   ],
   "source": [
    "tag_insert_query='''\n",
    "    insert into tag_test (tag,people_cnt)\n",
    "    values (\"%s\",%d)\n",
    "    '''\n",
    "\n",
    "print(tag_insert_query%(java_[\"tag\"],java_[\"인원\"]))"
   ]
  },
  {
   "cell_type": "code",
   "execution_count": null,
   "metadata": {},
   "outputs": [],
   "source": []
  }
 ],
 "metadata": {
  "kernelspec": {
   "display_name": "Python 3",
   "language": "python",
   "name": "python3"
  },
  "language_info": {
   "codemirror_mode": {
    "name": "ipython",
    "version": 3
   },
   "file_extension": ".py",
   "mimetype": "text/x-python",
   "name": "python",
   "nbconvert_exporter": "python",
   "pygments_lexer": "ipython3",
   "version": "3.12.1"
  }
 },
 "nbformat": 4,
 "nbformat_minor": 2
}

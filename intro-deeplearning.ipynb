{
 "cells": [
  {
   "cell_type": "markdown",
   "id": "b8afa96d",
   "metadata": {
    "papermill": {
     "duration": 0.00534,
     "end_time": "2024-04-23T10:23:04.255017",
     "exception": false,
     "start_time": "2024-04-23T10:23:04.249677",
     "status": "completed"
    },
    "tags": []
   },
   "source": [
    "**This notebook is an exercise in the [Intro to Deep Learning](https://www.kaggle.com/learn/intro-to-deep-learning) course.  You can reference the tutorial at [this link](https://www.kaggle.com/ryanholbrook/a-single-neuron).**\n",
    "\n",
    "---\n"
   ]
  },
  {
   "cell_type": "markdown",
   "id": "ad2777a5",
   "metadata": {
    "papermill": {
     "duration": 0.004597,
     "end_time": "2024-04-23T10:23:04.264723",
     "exception": false,
     "start_time": "2024-04-23T10:23:04.260126",
     "status": "completed"
    },
    "tags": []
   },
   "source": [
    "# Introduction #\n",
    "\n",
    "In the tutorial we learned about the building blocks of neural networks: *linear units*. We saw that a model of just one linear unit will fit a linear function to a dataset (equivalent to linear regression). In this exercise, you'll build a linear model and get some practice working with models in Keras.\n",
    "\n",
    "Before you get started, run the code cell below to set everything up."
   ]
  },
  {
   "cell_type": "code",
   "execution_count": 1,
   "id": "9a911ef0",
   "metadata": {
    "execution": {
     "iopub.execute_input": "2024-04-23T10:23:04.276269Z",
     "iopub.status.busy": "2024-04-23T10:23:04.275886Z",
     "iopub.status.idle": "2024-04-23T10:23:19.315934Z",
     "shell.execute_reply": "2024-04-23T10:23:19.314798Z"
    },
    "papermill": {
     "duration": 15.048979,
     "end_time": "2024-04-23T10:23:19.318561",
     "exception": false,
     "start_time": "2024-04-23T10:23:04.269582",
     "status": "completed"
    },
    "tags": []
   },
   "outputs": [
    {
     "name": "stderr",
     "output_type": "stream",
     "text": [
      "2024-04-23 10:23:07.280914: E external/local_xla/xla/stream_executor/cuda/cuda_dnn.cc:9261] Unable to register cuDNN factory: Attempting to register factory for plugin cuDNN when one has already been registered\n",
      "2024-04-23 10:23:07.281041: E external/local_xla/xla/stream_executor/cuda/cuda_fft.cc:607] Unable to register cuFFT factory: Attempting to register factory for plugin cuFFT when one has already been registered\n",
      "2024-04-23 10:23:07.440607: E external/local_xla/xla/stream_executor/cuda/cuda_blas.cc:1515] Unable to register cuBLAS factory: Attempting to register factory for plugin cuBLAS when one has already been registered\n"
     ]
    }
   ],
   "source": [
    "# Setup plotting\n",
    "import matplotlib.pyplot as plt\n",
    "\n",
    "#plt.style.use('seaborn-whitegrid')\n",
    "# Set Matplotlib defaults\n",
    "plt.rc('figure', autolayout=True)\n",
    "plt.rc('axes', labelweight='bold', labelsize='large',\n",
    "       titleweight='bold', titlesize=18, titlepad=10)\n",
    "\n",
    "# Setup feedback system\n",
    "from learntools.core import binder\n",
    "binder.bind(globals())\n",
    "from learntools.deep_learning_intro.ex1 import *"
   ]
  },
  {
   "cell_type": "markdown",
   "id": "b918221d",
   "metadata": {
    "papermill": {
     "duration": 0.004572,
     "end_time": "2024-04-23T10:23:19.328211",
     "exception": false,
     "start_time": "2024-04-23T10:23:19.323639",
     "status": "completed"
    },
    "tags": []
   },
   "source": [
    "The *Red Wine Quality* dataset consists of physiochemical measurements from about 1600 Portuguese red wines.  Also included is a quality rating for each wine from blind taste-tests. \n",
    "\n",
    "First, run the next cell to display the first few rows of this dataset."
   ]
  },
  {
   "cell_type": "code",
   "execution_count": 2,
   "id": "d38a9eb7",
   "metadata": {
    "execution": {
     "iopub.execute_input": "2024-04-23T10:23:19.340034Z",
     "iopub.status.busy": "2024-04-23T10:23:19.339381Z",
     "iopub.status.idle": "2024-04-23T10:23:19.390019Z",
     "shell.execute_reply": "2024-04-23T10:23:19.388703Z"
    },
    "papermill": {
     "duration": 0.060098,
     "end_time": "2024-04-23T10:23:19.393360",
     "exception": false,
     "start_time": "2024-04-23T10:23:19.333262",
     "status": "completed"
    },
    "tags": []
   },
   "outputs": [
    {
     "data": {
      "text/html": [
       "<div>\n",
       "<style scoped>\n",
       "    .dataframe tbody tr th:only-of-type {\n",
       "        vertical-align: middle;\n",
       "    }\n",
       "\n",
       "    .dataframe tbody tr th {\n",
       "        vertical-align: top;\n",
       "    }\n",
       "\n",
       "    .dataframe thead th {\n",
       "        text-align: right;\n",
       "    }\n",
       "</style>\n",
       "<table border=\"1\" class=\"dataframe\">\n",
       "  <thead>\n",
       "    <tr style=\"text-align: right;\">\n",
       "      <th></th>\n",
       "      <th>fixed acidity</th>\n",
       "      <th>volatile acidity</th>\n",
       "      <th>citric acid</th>\n",
       "      <th>residual sugar</th>\n",
       "      <th>chlorides</th>\n",
       "      <th>free sulfur dioxide</th>\n",
       "      <th>total sulfur dioxide</th>\n",
       "      <th>density</th>\n",
       "      <th>pH</th>\n",
       "      <th>sulphates</th>\n",
       "      <th>alcohol</th>\n",
       "      <th>quality</th>\n",
       "    </tr>\n",
       "  </thead>\n",
       "  <tbody>\n",
       "    <tr>\n",
       "      <th>0</th>\n",
       "      <td>7.4</td>\n",
       "      <td>0.70</td>\n",
       "      <td>0.00</td>\n",
       "      <td>1.9</td>\n",
       "      <td>0.076</td>\n",
       "      <td>11.0</td>\n",
       "      <td>34.0</td>\n",
       "      <td>0.9978</td>\n",
       "      <td>3.51</td>\n",
       "      <td>0.56</td>\n",
       "      <td>9.4</td>\n",
       "      <td>5</td>\n",
       "    </tr>\n",
       "    <tr>\n",
       "      <th>1</th>\n",
       "      <td>7.8</td>\n",
       "      <td>0.88</td>\n",
       "      <td>0.00</td>\n",
       "      <td>2.6</td>\n",
       "      <td>0.098</td>\n",
       "      <td>25.0</td>\n",
       "      <td>67.0</td>\n",
       "      <td>0.9968</td>\n",
       "      <td>3.20</td>\n",
       "      <td>0.68</td>\n",
       "      <td>9.8</td>\n",
       "      <td>5</td>\n",
       "    </tr>\n",
       "    <tr>\n",
       "      <th>2</th>\n",
       "      <td>7.8</td>\n",
       "      <td>0.76</td>\n",
       "      <td>0.04</td>\n",
       "      <td>2.3</td>\n",
       "      <td>0.092</td>\n",
       "      <td>15.0</td>\n",
       "      <td>54.0</td>\n",
       "      <td>0.9970</td>\n",
       "      <td>3.26</td>\n",
       "      <td>0.65</td>\n",
       "      <td>9.8</td>\n",
       "      <td>5</td>\n",
       "    </tr>\n",
       "    <tr>\n",
       "      <th>3</th>\n",
       "      <td>11.2</td>\n",
       "      <td>0.28</td>\n",
       "      <td>0.56</td>\n",
       "      <td>1.9</td>\n",
       "      <td>0.075</td>\n",
       "      <td>17.0</td>\n",
       "      <td>60.0</td>\n",
       "      <td>0.9980</td>\n",
       "      <td>3.16</td>\n",
       "      <td>0.58</td>\n",
       "      <td>9.8</td>\n",
       "      <td>6</td>\n",
       "    </tr>\n",
       "    <tr>\n",
       "      <th>4</th>\n",
       "      <td>7.4</td>\n",
       "      <td>0.70</td>\n",
       "      <td>0.00</td>\n",
       "      <td>1.9</td>\n",
       "      <td>0.076</td>\n",
       "      <td>11.0</td>\n",
       "      <td>34.0</td>\n",
       "      <td>0.9978</td>\n",
       "      <td>3.51</td>\n",
       "      <td>0.56</td>\n",
       "      <td>9.4</td>\n",
       "      <td>5</td>\n",
       "    </tr>\n",
       "  </tbody>\n",
       "</table>\n",
       "</div>"
      ],
      "text/plain": [
       "   fixed acidity  volatile acidity  citric acid  residual sugar  chlorides  \\\n",
       "0            7.4              0.70         0.00             1.9      0.076   \n",
       "1            7.8              0.88         0.00             2.6      0.098   \n",
       "2            7.8              0.76         0.04             2.3      0.092   \n",
       "3           11.2              0.28         0.56             1.9      0.075   \n",
       "4            7.4              0.70         0.00             1.9      0.076   \n",
       "\n",
       "   free sulfur dioxide  total sulfur dioxide  density    pH  sulphates  \\\n",
       "0                 11.0                  34.0   0.9978  3.51       0.56   \n",
       "1                 25.0                  67.0   0.9968  3.20       0.68   \n",
       "2                 15.0                  54.0   0.9970  3.26       0.65   \n",
       "3                 17.0                  60.0   0.9980  3.16       0.58   \n",
       "4                 11.0                  34.0   0.9978  3.51       0.56   \n",
       "\n",
       "   alcohol  quality  \n",
       "0      9.4        5  \n",
       "1      9.8        5  \n",
       "2      9.8        5  \n",
       "3      9.8        6  \n",
       "4      9.4        5  "
      ]
     },
     "execution_count": 2,
     "metadata": {},
     "output_type": "execute_result"
    }
   ],
   "source": [
    "import pandas as pd\n",
    "\n",
    "red_wine = pd.read_csv('../input/dl-course-data/red-wine.csv')\n",
    "red_wine.head()"
   ]
  },
  {
   "cell_type": "markdown",
   "id": "36086a65",
   "metadata": {
    "papermill": {
     "duration": 0.007476,
     "end_time": "2024-04-23T10:23:19.408601",
     "exception": false,
     "start_time": "2024-04-23T10:23:19.401125",
     "status": "completed"
    },
    "tags": []
   },
   "source": [
    "You can get the number of rows and columns of a dataframe (or a Numpy array) with the `shape` attribute."
   ]
  },
  {
   "cell_type": "code",
   "execution_count": 3,
   "id": "7dd07e92",
   "metadata": {
    "execution": {
     "iopub.execute_input": "2024-04-23T10:23:19.424883Z",
     "iopub.status.busy": "2024-04-23T10:23:19.424142Z",
     "iopub.status.idle": "2024-04-23T10:23:19.432538Z",
     "shell.execute_reply": "2024-04-23T10:23:19.431477Z"
    },
    "papermill": {
     "duration": 0.019421,
     "end_time": "2024-04-23T10:23:19.435240",
     "exception": false,
     "start_time": "2024-04-23T10:23:19.415819",
     "status": "completed"
    },
    "tags": []
   },
   "outputs": [
    {
     "data": {
      "text/plain": [
       "(1599, 12)"
      ]
     },
     "execution_count": 3,
     "metadata": {},
     "output_type": "execute_result"
    }
   ],
   "source": [
    "red_wine.shape # (rows, columns)"
   ]
  },
  {
   "cell_type": "markdown",
   "id": "386c7f29",
   "metadata": {
    "papermill": {
     "duration": 0.007029,
     "end_time": "2024-04-23T10:23:19.450146",
     "exception": false,
     "start_time": "2024-04-23T10:23:19.443117",
     "status": "completed"
    },
    "tags": []
   },
   "source": [
    "# 1) Input shape #\n",
    "\n",
    "How well can we predict a wine's perceived quality from the physiochemical measurements?  \n",
    "\n",
    "The target is `'quality'`, and the remaining columns are the features.  How would you set the `input_shape` parameter for a Keras model on this task?"
   ]
  },
  {
   "cell_type": "code",
   "execution_count": 4,
   "id": "b149dbe8",
   "metadata": {
    "execution": {
     "iopub.execute_input": "2024-04-23T10:23:19.462268Z",
     "iopub.status.busy": "2024-04-23T10:23:19.461929Z",
     "iopub.status.idle": "2024-04-23T10:23:19.483321Z",
     "shell.execute_reply": "2024-04-23T10:23:19.482074Z"
    },
    "lines_to_next_cell": 0,
    "papermill": {
     "duration": 0.030131,
     "end_time": "2024-04-23T10:23:19.485641",
     "exception": false,
     "start_time": "2024-04-23T10:23:19.455510",
     "status": "completed"
    },
    "tags": []
   },
   "outputs": [
    {
     "data": {
      "application/javascript": [
       "parent.postMessage({\"jupyterEvent\": \"custom.exercise_interaction\", \"data\": {\"outcomeType\": 1, \"valueTowardsCompletion\": 0.3333333333333333, \"interactionType\": 1, \"questionType\": 2, \"questionId\": \"1_Q1\", \"learnToolsVersion\": \"0.3.4\", \"failureMessage\": \"\", \"exceptionClass\": \"\", \"trace\": \"\"}}, \"*\")"
      ],
      "text/plain": [
       "<IPython.core.display.Javascript object>"
      ]
     },
     "metadata": {},
     "output_type": "display_data"
    },
    {
     "data": {
      "text/markdown": [
       "<span style=\"color:#33cc33\">Correct</span>"
      ],
      "text/plain": [
       "Correct"
      ]
     },
     "metadata": {},
     "output_type": "display_data"
    }
   ],
   "source": [
    "# YOUR CODE HERE\n",
    "input_columns=red_wine.columns.difference([\"quality\"])\n",
    "input_shape = [red_wine[input_columns].shape[1]]\n",
    "\n",
    "# Check your answer\n",
    "q_1.check()"
   ]
  },
  {
   "cell_type": "code",
   "execution_count": 5,
   "id": "72da0e8e",
   "metadata": {
    "execution": {
     "iopub.execute_input": "2024-04-23T10:23:19.498879Z",
     "iopub.status.busy": "2024-04-23T10:23:19.498489Z",
     "iopub.status.idle": "2024-04-23T10:23:19.503042Z",
     "shell.execute_reply": "2024-04-23T10:23:19.501984Z"
    },
    "papermill": {
     "duration": 0.013866,
     "end_time": "2024-04-23T10:23:19.505408",
     "exception": false,
     "start_time": "2024-04-23T10:23:19.491542",
     "status": "completed"
    },
    "tags": []
   },
   "outputs": [],
   "source": [
    "# Lines below will give you a hint or solution code\n",
    "#q_1.hint()\n",
    "#q_1.solution()"
   ]
  },
  {
   "cell_type": "markdown",
   "id": "7665532c",
   "metadata": {
    "papermill": {
     "duration": 0.005257,
     "end_time": "2024-04-23T10:23:19.516486",
     "exception": false,
     "start_time": "2024-04-23T10:23:19.511229",
     "status": "completed"
    },
    "tags": []
   },
   "source": [
    "# 2) Define a linear model\n",
    "\n",
    "Now define a linear model appropriate for this task. Pay attention to how many inputs and outputs the model should have."
   ]
  },
  {
   "cell_type": "code",
   "execution_count": 6,
   "id": "4ead231a",
   "metadata": {
    "execution": {
     "iopub.execute_input": "2024-04-23T10:23:19.531053Z",
     "iopub.status.busy": "2024-04-23T10:23:19.530670Z",
     "iopub.status.idle": "2024-04-23T10:23:19.750238Z",
     "shell.execute_reply": "2024-04-23T10:23:19.749234Z"
    },
    "lines_to_next_cell": 0,
    "papermill": {
     "duration": 0.230659,
     "end_time": "2024-04-23T10:23:19.752653",
     "exception": false,
     "start_time": "2024-04-23T10:23:19.521994",
     "status": "completed"
    },
    "tags": []
   },
   "outputs": [
    {
     "data": {
      "application/javascript": [
       "parent.postMessage({\"jupyterEvent\": \"custom.exercise_interaction\", \"data\": {\"outcomeType\": 1, \"valueTowardsCompletion\": 0.3333333333333333, \"interactionType\": 1, \"questionType\": 2, \"questionId\": \"2_Q2\", \"learnToolsVersion\": \"0.3.4\", \"failureMessage\": \"\", \"exceptionClass\": \"\", \"trace\": \"\"}}, \"*\")"
      ],
      "text/plain": [
       "<IPython.core.display.Javascript object>"
      ]
     },
     "metadata": {},
     "output_type": "display_data"
    },
    {
     "data": {
      "text/markdown": [
       "<span style=\"color:#33cc33\">Correct</span>"
      ],
      "text/plain": [
       "Correct"
      ]
     },
     "metadata": {},
     "output_type": "display_data"
    }
   ],
   "source": [
    "from tensorflow import keras\n",
    "from tensorflow.keras import layers\n",
    "\n",
    "# YOUR CODE HERE\n",
    "model = keras.Sequential(\n",
    "    layers.Dense(units=1,input_shape=input_shape))\n",
    "\n",
    "# Check your answer\n",
    "q_2.check()"
   ]
  },
  {
   "cell_type": "code",
   "execution_count": 7,
   "id": "db2f5d12",
   "metadata": {
    "execution": {
     "iopub.execute_input": "2024-04-23T10:23:19.765862Z",
     "iopub.status.busy": "2024-04-23T10:23:19.765479Z",
     "iopub.status.idle": "2024-04-23T10:23:19.770035Z",
     "shell.execute_reply": "2024-04-23T10:23:19.768903Z"
    },
    "papermill": {
     "duration": 0.013716,
     "end_time": "2024-04-23T10:23:19.772110",
     "exception": false,
     "start_time": "2024-04-23T10:23:19.758394",
     "status": "completed"
    },
    "tags": []
   },
   "outputs": [],
   "source": [
    "# Lines below will give you a hint or solution code\n",
    "#q_2.hint()\n",
    "#q_2.solution()"
   ]
  },
  {
   "cell_type": "markdown",
   "id": "9f681df5",
   "metadata": {
    "papermill": {
     "duration": 0.005516,
     "end_time": "2024-04-23T10:23:19.783528",
     "exception": false,
     "start_time": "2024-04-23T10:23:19.778012",
     "status": "completed"
    },
    "tags": []
   },
   "source": [
    "# 3) Look at the weights\n",
    "\n",
    "Internally, Keras represents the weights of a neural network with **tensors**. Tensors are basically TensorFlow's version of a Numpy array with a few differences that make them better suited to deep learning. One of the most important is that tensors are compatible with [GPU](https://www.kaggle.com/docs/efficient-gpu-usage) and [TPU](https://www.kaggle.com/docs/tpu)) accelerators. TPUs, in fact, are designed specifically for tensor computations.\n",
    "\n",
    "A model's weights are kept in its `weights` attribute as a list of tensors. Get the weights of the model you defined above. (If you want, you could display the weights with something like: `print(\"Weights\\n{}\\n\\nBias\\n{}\".format(w, b))`)."
   ]
  },
  {
   "cell_type": "code",
   "execution_count": 8,
   "id": "98d926af",
   "metadata": {
    "execution": {
     "iopub.execute_input": "2024-04-23T10:23:19.796828Z",
     "iopub.status.busy": "2024-04-23T10:23:19.796448Z",
     "iopub.status.idle": "2024-04-23T10:23:19.808363Z",
     "shell.execute_reply": "2024-04-23T10:23:19.806919Z"
    },
    "papermill": {
     "duration": 0.021105,
     "end_time": "2024-04-23T10:23:19.810598",
     "exception": false,
     "start_time": "2024-04-23T10:23:19.789493",
     "status": "completed"
    },
    "tags": []
   },
   "outputs": [
    {
     "name": "stdout",
     "output_type": "stream",
     "text": [
      "[<tf.Variable 'dense/kernel:0' shape=(11, 1) dtype=float32, numpy=\n",
      "array([[-0.04049993],\n",
      "       [ 0.4775638 ],\n",
      "       [ 0.25535125],\n",
      "       [ 0.6190912 ],\n",
      "       [ 0.5232586 ],\n",
      "       [-0.00144309],\n",
      "       [-0.6557992 ],\n",
      "       [-0.2240228 ],\n",
      "       [ 0.44826847],\n",
      "       [-0.52840143],\n",
      "       [ 0.4038555 ]], dtype=float32)>, <tf.Variable 'dense/bias:0' shape=(1,) dtype=float32, numpy=array([0.], dtype=float32)>]\n"
     ]
    }
   ],
   "source": [
    "params=model.weights\n",
    "print(params)"
   ]
  },
  {
   "cell_type": "code",
   "execution_count": 9,
   "id": "90162212",
   "metadata": {
    "execution": {
     "iopub.execute_input": "2024-04-23T10:23:19.824057Z",
     "iopub.status.busy": "2024-04-23T10:23:19.823678Z",
     "iopub.status.idle": "2024-04-23T10:23:19.832369Z",
     "shell.execute_reply": "2024-04-23T10:23:19.831197Z"
    },
    "lines_to_next_cell": 0,
    "papermill": {
     "duration": 0.017949,
     "end_time": "2024-04-23T10:23:19.834443",
     "exception": false,
     "start_time": "2024-04-23T10:23:19.816494",
     "status": "completed"
    },
    "tags": []
   },
   "outputs": [
    {
     "data": {
      "application/javascript": [
       "parent.postMessage({\"jupyterEvent\": \"custom.exercise_interaction\", \"data\": {\"outcomeType\": 1, \"valueTowardsCompletion\": 0.3333333333333333, \"interactionType\": 1, \"questionType\": 2, \"questionId\": \"3_Q3\", \"learnToolsVersion\": \"0.3.4\", \"failureMessage\": \"\", \"exceptionClass\": \"\", \"trace\": \"\"}}, \"*\")"
      ],
      "text/plain": [
       "<IPython.core.display.Javascript object>"
      ]
     },
     "metadata": {},
     "output_type": "display_data"
    },
    {
     "data": {
      "text/markdown": [
       "<span style=\"color:#33cc33\">Correct:</span> Do you see how there's one weight for each input (and a bias)? Notice though that there doesn't seem to be any pattern to the values the weights have. Before the model is trained, the weights are set to random numbers (and the bias to 0.0). A neural network learns by finding better values for its weights.\n"
      ],
      "text/plain": [
       "Correct: Do you see how there's one weight for each input (and a bias)? Notice though that there doesn't seem to be any pattern to the values the weights have. Before the model is trained, the weights are set to random numbers (and the bias to 0.0). A neural network learns by finding better values for its weights."
      ]
     },
     "metadata": {},
     "output_type": "display_data"
    }
   ],
   "source": [
    "# YOUR CODE HERE\n",
    "w, b = params\n",
    "\n",
    "# Check your answer\n",
    "q_3.check()"
   ]
  },
  {
   "cell_type": "code",
   "execution_count": 10,
   "id": "8899e030",
   "metadata": {
    "execution": {
     "iopub.execute_input": "2024-04-23T10:23:19.848431Z",
     "iopub.status.busy": "2024-04-23T10:23:19.848030Z",
     "iopub.status.idle": "2024-04-23T10:23:19.852393Z",
     "shell.execute_reply": "2024-04-23T10:23:19.851380Z"
    },
    "lines_to_next_cell": 0,
    "papermill": {
     "duration": 0.01403,
     "end_time": "2024-04-23T10:23:19.854672",
     "exception": false,
     "start_time": "2024-04-23T10:23:19.840642",
     "status": "completed"
    },
    "tags": []
   },
   "outputs": [],
   "source": [
    "# Lines below will give you a hint or solution code\n",
    "#q_3.hint()\n",
    "#q_3.solution()"
   ]
  },
  {
   "cell_type": "markdown",
   "id": "c4d61990",
   "metadata": {
    "papermill": {
     "duration": 0.005894,
     "end_time": "2024-04-23T10:23:19.866709",
     "exception": false,
     "start_time": "2024-04-23T10:23:19.860815",
     "status": "completed"
    },
    "tags": []
   },
   "source": [
    "(By the way, Keras represents weights as tensors, but also uses tensors to represent data. When you set the `input_shape` argument, you are telling Keras the dimensions of the array it should expect for each example in the training data. Setting `input_shape=[3]` would create a network accepting vectors of length 3, like `[0.2, 0.4, 0.6]`.)\n",
    " \n",
    "\n",
    "# Optional: Plot the output of an untrained linear model\n",
    " \n",
    "The kinds of problems we'll work on through Lesson 5 will be *regression* problems, where the goal is to predict some numeric target. Regression problems are like \"curve-fitting\" problems: we're trying to find a curve that best fits the data. Let's take a look at the \"curve\" produced by a linear model. (You've probably guessed that it's a line!)\n",
    " \n",
    "We mentioned that before training a model's weights are set randomly. Run the cell below a few times to see the different lines produced with a random initialization. (There's no coding for this exercise -- it's just a demonstration.)"
   ]
  },
  {
   "cell_type": "code",
   "execution_count": 11,
   "id": "131d88f3",
   "metadata": {
    "execution": {
     "iopub.execute_input": "2024-04-23T10:23:19.880555Z",
     "iopub.status.busy": "2024-04-23T10:23:19.880056Z",
     "iopub.status.idle": "2024-04-23T10:23:20.513698Z",
     "shell.execute_reply": "2024-04-23T10:23:20.512321Z"
    },
    "lines_to_next_cell": 0,
    "papermill": {
     "duration": 0.643713,
     "end_time": "2024-04-23T10:23:20.516579",
     "exception": false,
     "start_time": "2024-04-23T10:23:19.872866",
     "status": "completed"
    },
    "tags": []
   },
   "outputs": [
    {
     "name": "stdout",
     "output_type": "stream",
     "text": [
      "4/4 [==============================] - 0s 2ms/step\n"
     ]
    },
    {
     "data": {
      "image/png": "[encoded data removed]",
      "text/plain": [
       "<Figure size 640x480 with 1 Axes>"
      ]
     },
     "metadata": {},
     "output_type": "display_data"
    }
   ],
   "source": [
    "import tensorflow as tf\n",
    "import matplotlib.pyplot as plt\n",
    "\n",
    "model = keras.Sequential([\n",
    "    layers.Dense(1, input_shape=[1]),\n",
    "])\n",
    "\n",
    "x = tf.linspace(-1.0, 1.0, 100)\n",
    "y = model.predict(x)\n",
    "\n",
    "plt.figure(dpi=100)\n",
    "plt.plot(x, y, 'k')\n",
    "plt.xlim(-1, 1)\n",
    "plt.ylim(-1, 1)\n",
    "plt.xlabel(\"Input: x\")\n",
    "plt.ylabel(\"Target y\")\n",
    "w, b = model.weights # you could also use model.get_weights() here\n",
    "plt.title(\"Weight: {:0.2f}\\nBias: {:0.2f}\".format(w[0][0], b[0]))\n",
    "plt.show()"
   ]
  },
  {
   "cell_type": "markdown",
   "id": "f38dc620",
   "metadata": {
    "papermill": {
     "duration": 0.006825,
     "end_time": "2024-04-23T10:23:20.530491",
     "exception": false,
     "start_time": "2024-04-23T10:23:20.523666",
     "status": "completed"
    },
    "tags": []
   },
   "source": [
    "# Keep Going #\n",
    "\n",
    "Add hidden layers and [**make your models deep**](https://www.kaggle.com/ryanholbrook/deep-neural-networks) in Lesson 2."
   ]
  },
  {
   "cell_type": "markdown",
   "id": "3652b366",
   "metadata": {
    "papermill": {
     "duration": 0.006432,
     "end_time": "2024-04-23T10:23:20.543775",
     "exception": false,
     "start_time": "2024-04-23T10:23:20.537343",
     "status": "completed"
    },
    "tags": []
   },
   "source": [
    "---\n",
    "\n",
    "\n",
    "\n",
    "\n",
    "*Have questions or comments? Visit the [course discussion forum](https://www.kaggle.com/learn/intro-to-deep-learning/discussion) to chat with other learners.*"
   ]
  }
 ],
 "metadata": {
  "jupytext": {
   "cell_metadata_filter": "-all",
   "formats": "ipynb"
  },
  "kaggle": {
   "accelerator": "none",
   "dataSources": [
    {
     "datasetId": 829369,
     "sourceId": 1480608,
     "sourceType": "datasetVersion"
    }
   ],
   "dockerImageVersionId": 30646,
   "isGpuEnabled": false,
   "isInternetEnabled": false,
   "language": "python",
   "sourceType": "notebook"
  },
  "kernelspec": {
   "display_name": "Python 3",
   "language": "python",
   "name": "python3"
  },
  "language_info": {
   "codemirror_mode": {
    "name": "ipython",
    "version": 3
   },
   "file_extension": ".py",
   "mimetype": "text/x-python",
   "name": "python",
   "nbconvert_exporter": "python",
   "pygments_lexer": "ipython3",
   "version": "3.10.13"
  },
  "papermill": {
   "default_parameters": {},
   "duration": 20.608986,
   "end_time": "2024-04-23T10:23:21.974422",
   "environment_variables": {},
   "exception": null,
   "input_path": "__notebook__.ipynb",
   "output_path": "__notebook__.ipynb",
   "parameters": {},
   "start_time": "2024-04-23T10:23:01.365436",
   "version": "2.5.0"
  }
 },
 "nbformat": 4,
 "nbformat_minor": 5
}
